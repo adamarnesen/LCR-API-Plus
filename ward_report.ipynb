{
 "cells": [
  {
   "cell_type": "code",
   "execution_count": 1,
   "metadata": {},
   "outputs": [],
   "source": [
    "import pandas as pd\n",
    "\n",
    "from analytics.stake_quarterlies import *\n",
    "from run_analytics import download_units_data, load_profile"
   ]
  },
  {
   "cell_type": "code",
   "execution_count": 2,
   "metadata": {},
   "outputs": [],
   "source": [
    "profile = load_profile()\n",
    "UNIT_NAME = profile[\"report_unit\"][\"name\"]\n",
    "UNIT_ID = profile[\"report_unit\"][\"number\"]\n",
    "DOWNLOAD_DATA = False\n",
    "if DOWNLOAD_DATA:\n",
    "    download_units_data(profile)"
   ]
  },
  {
   "cell_type": "code",
   "execution_count": null,
   "metadata": {},
   "outputs": [],
   "source": [
    "starting_year = 2022\n",
    "data_file = f\"analytics\\data\\{profile['unit_name']}.csv\"\n",
    "raw_data = pd.read_csv(data_file)\n",
    "unit_data = raw_data[raw_data[\"unitName\"] == UNIT_NAME]\n",
    "unit_data = unit_data[unit_data[\"year\"]>= starting_year]\n",
    "unit_data = unit_data.copy()\n",
    "unit_data = aggregate_attendance_and_percentages(unit_data)\n",
    "\n",
    "chart_membership_per_ward(unit_data)\n",
    "chart_melch_per_ward(unit_data)\n",
    "chart_adult_active_per_ward(unit_data)\n",
    "chart_youth_active_per_ward(unit_data)\n",
    "chart_primary_per_ward(unit_data)\n",
    "\n",
    "\n"
   ]
  }
 ],
 "metadata": {
  "kernelspec": {
   "display_name": "LCR-API-Plus-IFmod9UL",
   "language": "python",
   "name": "python3"
  },
  "language_info": {
   "codemirror_mode": {
    "name": "ipython",
    "version": 3
   },
   "file_extension": ".py",
   "mimetype": "text/x-python",
   "name": "python",
   "nbconvert_exporter": "python",
   "pygments_lexer": "ipython3",
   "version": "3.10.11"
  }
 },
 "nbformat": 4,
 "nbformat_minor": 2
}
